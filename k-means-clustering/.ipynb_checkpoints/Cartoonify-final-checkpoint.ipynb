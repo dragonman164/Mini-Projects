{
 "cells": [
  {
   "cell_type": "code",
   "execution_count": 25,
   "metadata": {},
   "outputs": [],
   "source": [
    "import cv2\n",
    "import numpy as np\n",
    "import sys"
   ]
  },
  {
   "cell_type": "code",
   "execution_count": 26,
   "metadata": {
    "scrolled": true
   },
   "outputs": [],
   "source": [
    "img = cv2.imread(\"Program Images/jb_500sq.png\")\n",
    "img_copy1 = img.copy()\n",
    "img = img / 255\n",
    "#print(img)"
   ]
  },
  {
   "cell_type": "code",
   "execution_count": 27,
   "metadata": {
    "scrolled": false
   },
   "outputs": [
    {
     "name": "stdout",
     "output_type": "stream",
     "text": [
      "length, breadth, height = (500, 500, 3)\n"
     ]
    }
   ],
   "source": [
    "height,width,layers = np.shape(img)\n",
    "print(\"length, breadth, height =\",np.shape(img))"
   ]
  },
  {
   "cell_type": "code",
   "execution_count": 28,
   "metadata": {},
   "outputs": [],
   "source": [
    "def user_input():\n",
    "    print(\"Choose the intensity of cartoonification:\")\n",
    "    print(\"1. Extreme\\n2. Moderate\\n3. Slight\")\n",
    "    try:\n",
    "        choice = int(input(\"Enter your choice:\"))\n",
    "        if choice < 1 or choice > 3:\n",
    "            raise Exception\n",
    "\n",
    "    except:\n",
    "        print(\"Invalid input encountered!\")\n",
    "    else:\n",
    "        if choice == 1:\n",
    "            k=3\n",
    "        elif choice == 2:\n",
    "            k=6\n",
    "        else:\n",
    "            k=12\n",
    "            \n",
    "        print(\"\\nNumber of clusters selected =\",k,end='\\n\\n')\n",
    "        return k"
   ]
  },
  {
   "cell_type": "code",
   "execution_count": 29,
   "metadata": {
    "scrolled": false
   },
   "outputs": [
    {
     "name": "stdout",
     "output_type": "stream",
     "text": [
      "Choose the intensity of cartoonification:\n",
      "1. Extreme\n",
      "2. Moderate\n",
      "3. Slight\n",
      "Enter your choice:1\n",
      "\n",
      "Number of clusters selected = 3\n",
      "\n"
     ]
    }
   ],
   "source": [
    "#no. of clusters (k)\n",
    "k = user_input()\n"
   ]
  },
  {
   "cell_type": "code",
   "execution_count": 30,
   "metadata": {},
   "outputs": [
    {
     "name": "stdout",
     "output_type": "stream",
     "text": [
      "Following centroids have been initialized:\n",
      "33.3 % complete...\n",
      "66.7 % complete...\n",
      "100.0 % complete...\n"
     ]
    }
   ],
   "source": [
    "#Efficiently choosing initial clusters using k-means++\n",
    "\"\"\"\n",
    "ALGORITHM USED:\n",
    "\n",
    "1. Randomly select the first centroid from the data points.\n",
    "2. For each pixel, compute its distance from all previously chosen centroids,\n",
    "   but only save the distance from nearest centroid for comparison with other pixels.\n",
    "3. Select the next centroid from the data points such that\n",
    "   its distance from the nearest, previously chosen centroid, is maximum.\n",
    "   (i.e. the point having maximum distance from the nearest centroid is most likely\n",
    "         to be selected next as a centroid, because its a new color.)\n",
    "4. Repeat steps 2 and 3 untill k centroids have been sampled\n",
    "\n",
    "\"\"\"\n",
    "centroids = list()\n",
    "centroid_location = list()\n",
    "\n",
    "def show_progress():\n",
    "    progress = (len(centroids)/k)*100\n",
    "    progress = round(progress,1)\n",
    "    print(progress,\"% complete...\")\n",
    "\n",
    "def initialize_cluster_centers():\n",
    "    #choosing first point randomly from the image\n",
    "    \"\"\"\n",
    "    x is a random number chosen along the height of the image.\n",
    "    y is a random number chosen along the width of the image.\n",
    "    \n",
    "    (x,y) is a random pixel in the image.\n",
    "    \"\"\"\n",
    "    x = np.random.randint(0,height)\n",
    "    y = np.random.randint(0,width)\n",
    "    first_centroid = img[x,y,:]\n",
    "    img_copy1[x-2:x+3,y-2:y+3,:] = [0,0,255]\n",
    "    centroid_location.append([x,y])\n",
    "    centroids.append(first_centroid)\n",
    "    show_progress()\n",
    "    \n",
    "    #Finding the next k-1 centroids that are yet to be found\n",
    "    for i in np.arange(k-1):\n",
    "        #dist stores the dist from nearest cluster for all pixels\n",
    "        dist = []\n",
    "        #For each pixel in the image\n",
    "        for p in np.arange(height):\n",
    "            for q in np.arange(width):\n",
    "                pixel = img[p,q,:]\n",
    "                #sys.maxsize represents infinity\n",
    "                dist_from_nearest_centroid = sys.maxsize\n",
    "                #For the number of centroids found so far...\n",
    "                for centroid in centroids:\n",
    "                    diff = centroid - pixel\n",
    "                    temp_dist = np.sqrt(np.dot(diff,diff))\n",
    "                    dist_from_nearest_centroid = min(dist_from_nearest_centroid,temp_dist)\n",
    "                dist.append(dist_from_nearest_centroid)\n",
    "        #Below index calculation is in shape 0 form.\n",
    "        #.i.e. arr[i,j] = a[((i+1)*j)+j] \n",
    "        #   => a[2,3] = a[12] (in 0 based indexing).\n",
    "        # Here, np.argmax returns integer indexing (like 12, in above example)\n",
    "        dist = np.array(dist)\n",
    "        index_of_next_centroid = np.argmax(dist)\n",
    "        h = index_of_next_centroid//width\n",
    "        w = index_of_next_centroid%width\n",
    "        img_copy1[h-2:h+3,w-2:w+3,:] = [0,0,255]\n",
    "        centroid_location.append([h,w])\n",
    "        next_centroid = img[h,w,:]\n",
    "        centroids.append(next_centroid)\n",
    "        show_progress()\n",
    "\n",
    "print(\"Following centroids have been initialized:\")\n",
    "#Below fn prints clusters as soon as they are generated\n",
    "initialize_cluster_centers()"
   ]
  },
  {
   "cell_type": "code",
   "execution_count": 31,
   "metadata": {},
   "outputs": [],
   "source": [
    "cv2.imshow(\"Centroids Initialized\",img_copy1)\n",
    "initialized_img_name = \"k = \"+ str(k) + \" initialized.jpg\"\n",
    "cv2.imwrite(initialized_img_name,img_copy1)\n",
    "cv2.waitKey(0)\n",
    "cv2.destroyAllWindows()"
   ]
  },
  {
   "cell_type": "code",
   "execution_count": 32,
   "metadata": {
    "scrolled": false
   },
   "outputs": [],
   "source": [
    "#reshaping the img for efficent k-means application\n",
    "no_rows = height * width\n",
    "rbg_columned_img = img.reshape(no_rows,layers)"
   ]
  },
  {
   "cell_type": "code",
   "execution_count": 33,
   "metadata": {},
   "outputs": [
    {
     "name": "stdout",
     "output_type": "stream",
     "text": [
      "[[0.86666667 0.94117647 0.95294118]\n",
      " [0.01960784 0.02745098 0.03137255]\n",
      " [0.30196078 0.45882353 0.65098039]]\n"
     ]
    }
   ],
   "source": [
    "centroids = np.array(centroids)\n",
    "print(centroids)"
   ]
  },
  {
   "cell_type": "markdown",
   "metadata": {},
   "source": [
    "# K - Means calculation"
   ]
  },
  {
   "cell_type": "code",
   "execution_count": 34,
   "metadata": {},
   "outputs": [],
   "source": [
    "#Function to find nearest cluster to individual pixel\n",
    "def nearest_cluster(pixel):\n",
    "    nearest_cluster_index = 0\n",
    "    centroid = centroids[0]\n",
    "    minimum_dist = np.linalg.norm(centroid - pixel)\n",
    "    for i in range(1,k):\n",
    "        centroid = centroids[i]\n",
    "        d = np.linalg.norm(centroid - pixel)\n",
    "        if(d < minimum_dist):\n",
    "            nearest_cluster_index = i\n",
    "            minimum_dist = d\n",
    "    return nearest_cluster_index"
   ]
  },
  {
   "cell_type": "code",
   "execution_count": 35,
   "metadata": {},
   "outputs": [],
   "source": [
    "#Function to find nearest clusters for all pixels, and clubbing them to find new centroids.\n",
    "def new_centroids():\n",
    "    #sums is used to add pixels of the same cluster.\n",
    "    #Layers means R, G, B.\n",
    "    #The last column (+1) is used to count the no. of points that belong to that cluster.\n",
    "    sums = np.zeros((k,layers +1),dtype=np.float64)\n",
    "    for i in np.arange(no_rows):\n",
    "        pixel = rbg_columned_img[i]\n",
    "        x = nearest_cluster(pixel)\n",
    "        sums[x,:-1] = sums[x,:-1] + pixel\n",
    "        sums[x,-1] = sums[x,-1] + 1\n",
    "    #creating new centroids\n",
    "    for i in np.arange(k):\n",
    "        if sums[i,-1] != 0:\n",
    "        #i.e if (atleast one pixel belongs to each cluster)\n",
    "            centroids[i,:] = sums[i,:-1]/sums[i,-1]\n",
    "    \n",
    "def converge():\n",
    "    steps_to_converge = 7\n",
    "    for i in np.arange(steps_to_converge):\n",
    "        new_centroids()\n",
    "        \n",
    "converge()"
   ]
  },
  {
   "cell_type": "markdown",
   "metadata": {},
   "source": [
    "### Image Modification function\n",
    "\n",
    "This function will paint the members of the cluster in the colors of the centroid of that cluster."
   ]
  },
  {
   "cell_type": "code",
   "execution_count": 36,
   "metadata": {},
   "outputs": [],
   "source": [
    "def cartoonify_image():\n",
    "    for i in np.arange(height):\n",
    "        for j in np.arange(width):\n",
    "            pixel = img[i,j,:]\n",
    "            # x is the index of nearest cluster\n",
    "            x = nearest_cluster(pixel)\n",
    "            img[i,j,:] = centroids[x,:]\n",
    "    img_copy2 = img.copy()\n",
    "    edited_img_name = \"k = \" + str(k) + \".png\"\n",
    "    #Line below rescales pixel values from [0..1] --> [0..255]\n",
    "    #Otherwise cv2 stores the image as a black box.\n",
    "    img_copy2 = cv2.convertScaleAbs(img_copy2, alpha = (255.0))\n",
    "    cv2.imwrite(edited_img_name,img_copy2)\n",
    "    cv2.imshow(\"Cartoonified Image\",img_copy2)\n",
    "    cv2.waitKey(0)\n",
    "    cv2.destroyAllWindows()\n",
    "    \n",
    "cartoonify_image()"
   ]
  },
  {
   "cell_type": "code",
   "execution_count": null,
   "metadata": {},
   "outputs": [],
   "source": []
  }
 ],
 "metadata": {
  "kernelspec": {
   "display_name": "Python 3",
   "language": "python",
   "name": "python3"
  },
  "language_info": {
   "codemirror_mode": {
    "name": "ipython",
    "version": 3
   },
   "file_extension": ".py",
   "mimetype": "text/x-python",
   "name": "python",
   "nbconvert_exporter": "python",
   "pygments_lexer": "ipython3",
   "version": "3.8.3"
  }
 },
 "nbformat": 4,
 "nbformat_minor": 4
}
