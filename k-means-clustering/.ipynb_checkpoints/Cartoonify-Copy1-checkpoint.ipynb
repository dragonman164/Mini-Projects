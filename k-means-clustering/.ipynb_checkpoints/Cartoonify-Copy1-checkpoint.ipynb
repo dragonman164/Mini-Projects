{
 "cells": [
  {
   "cell_type": "code",
   "execution_count": 10,
   "metadata": {},
   "outputs": [],
   "source": [
    "import cv2\n",
    "import numpy as np\n",
    "import sys"
   ]
  },
  {
   "cell_type": "code",
   "execution_count": 11,
   "metadata": {
    "scrolled": true
   },
   "outputs": [],
   "source": [
    "img = cv2.imread(\"Images/Ivysaur2.jpg\")\n",
    "#print(img)"
   ]
  },
  {
   "cell_type": "code",
   "execution_count": 12,
   "metadata": {
    "scrolled": false
   },
   "outputs": [
    {
     "name": "stdout",
     "output_type": "stream",
     "text": [
      "length, breadth, height = (500, 500, 3)\n"
     ]
    }
   ],
   "source": [
    "height,width,layers = np.shape(img)\n",
    "print(\"length, breadth, height =\",np.shape(img))"
   ]
  },
  {
   "cell_type": "code",
   "execution_count": 13,
   "metadata": {},
   "outputs": [],
   "source": [
    "def user_input():\n",
    "    print(\"Choose the intensity of cartoonification:\")\n",
    "    print(\"1. Extreme\\n2. Moderate\\n3. Slight\")\n",
    "    try:\n",
    "        choice = int(input(\"Enter your choice:\"))\n",
    "        if choice < 1 or choice > 3:\n",
    "            raise Exception\n",
    "\n",
    "    except:\n",
    "        print(\"Invalid input encountered!\")\n",
    "    else:\n",
    "        if choice == 1:\n",
    "            k=6\n",
    "        elif choice == 2:\n",
    "            k=9\n",
    "        else:\n",
    "            k=18\n",
    "            \n",
    "        print(\"\\nNumber of clusters selected =\",k,end='\\n\\n')\n",
    "        return k"
   ]
  },
  {
   "cell_type": "code",
   "execution_count": 14,
   "metadata": {
    "scrolled": false
   },
   "outputs": [
    {
     "name": "stdout",
     "output_type": "stream",
     "text": [
      "Choose the intensity of cartoonification:\n",
      "1. Extreme\n",
      "2. Moderate\n",
      "3. Slight\n",
      "Enter your choice:1\n",
      "\n",
      "Number of clusters selected = 6\n",
      "\n"
     ]
    }
   ],
   "source": [
    "#no. of clusters (k)\n",
    "k = user_input()\n"
   ]
  },
  {
   "cell_type": "code",
   "execution_count": 15,
   "metadata": {},
   "outputs": [
    {
     "name": "stdout",
     "output_type": "stream",
     "text": [
      "Following centroids have been initialized:\n",
      "[441, 419]\n",
      "[0, 0]\n",
      "[0, 499]\n",
      "[499, 0]\n",
      "[183, 249]\n",
      "[250, 9]\n"
     ]
    }
   ],
   "source": [
    "#Efficiently choosing initial clusters using k-means++\n",
    "\"\"\"\n",
    "ALGORITHM USED:\n",
    "\n",
    "1. Randomly select the first centroid from the data points.\n",
    "2. For each data point compute its distance from the nearest, previously chosen centroid.\n",
    "3. Select the next centroid from the data points such that the probability of choosing a point as centroid is directly proportional to its distance from the nearest, previously chosen centroid. (i.e. the point having maximum distance from the nearest centroid is most likely to be selected next as a centroid)\n",
    "4. Repeat steps 2 and 3 untill k centroids have been sampled\n",
    "\n",
    "\"\"\"\n",
    "centroids = []\n",
    "\n",
    "def initialize_cluster_centers():\n",
    "    #choosing first point randomly from the image\n",
    "    x = np.random.randint(0,height)\n",
    "    y = np.random.randint(0,width)\n",
    "    first_centroid = [x,y]\n",
    "    print(first_centroid)\n",
    "    centroids.append(first_centroid)\n",
    "    \n",
    "    #Finding the next k-1 centroids that are yet to be found\n",
    "    for i in np.arange(k-1):\n",
    "        dist = []\n",
    "        #For each pixel in the image\n",
    "        for p in np.arange(height):\n",
    "            for q in np.arange(width):\n",
    "                pixel = [p,q]\n",
    "                #sys.maxsize represents infinity\n",
    "                dist_from_nearest_centroid = sys.maxsize\n",
    "                #For the number of centroids found so far...\n",
    "                for j in range(len(centroids)):\n",
    "                    centroid = np.array(centroids[j])\n",
    "                    temp_dist = np.linalg.norm(centroid - pixel)\n",
    "                    dist_from_nearest_centroid = min(dist_from_nearest_centroid,temp_dist)\n",
    "                dist.append(round(dist_from_nearest_centroid,3))\n",
    "        #Below index calculation is in shape 0 form.\n",
    "        #.i.e. arr[i,j] = a[((i+1)*j)+j] \n",
    "        #   => a[2,3] = a[12] (in 0 based indexing).\n",
    "        # Here, np.argmax returns integer indexing (like 12, in above example)\n",
    "        dist = np.array(dist)\n",
    "        index_of_next_centroid = np.argmax(dist)\n",
    "        next_centroid = [index_of_next_centroid//width,index_of_next_centroid%width]\n",
    "        print(next_centroid)\n",
    "        centroids.append(next_centroid)\n",
    "\n",
    "print(\"Following centroids have been initialized:\")\n",
    "#Below fn prints clusters as soon as they are generated\n",
    "initialize_cluster_centers()\n",
    "centroids = np.array(centroids)"
   ]
  },
  {
   "cell_type": "markdown",
   "metadata": {},
   "source": [
    "# K - Means calculation"
   ]
  },
  {
   "cell_type": "code",
   "execution_count": 16,
   "metadata": {},
   "outputs": [],
   "source": [
    "#Function to find nearest cluster to individual pixel\n",
    "def nearest_cluster(pixel):\n",
    "    nearest_cluster_index = 0\n",
    "    centroid = centroids[0,:]\n",
    "    minimum_dist = np.linalg.norm(centroid - pixel)\n",
    "    for i in range(1,k):\n",
    "        centroid = centroids[i]\n",
    "        d = np.linalg.norm(centroid - pixel)\n",
    "        if(d < minimum_dist):\n",
    "            nearest_cluster_index = nearest_cluster_index + 1\n",
    "            minimum_dist = d\n",
    "    return nearest_cluster_index"
   ]
  },
  {
   "cell_type": "code",
   "execution_count": 17,
   "metadata": {},
   "outputs": [],
   "source": [
    "#Function to find nearest clusters for all pixels, and clubbing them to find new centroids.\n",
    "def new_centroids():\n",
    "    #sums is used to add pixels of the same cluster.\n",
    "    #Layers means R, G, B.\n",
    "    #The last column (+1) is used to count the no. of points that belong to that cluster.\n",
    "    sums = np.zeros((k,2+1),dtype=np.float32)\n",
    "    for i in np.arange(height):\n",
    "        for j in np.arange(width):\n",
    "            pixel = [i,j]\n",
    "            x = nearest_cluster(pixel)\n",
    "            sums[x,:-1] = sums[x,:-1] + pixel\n",
    "            sums[x,-1] = sums[x,-1] + 1\n",
    "    #creating new centroids\n",
    "    for i in np.arange(k):\n",
    "        if sums[i,-1] != 0:\n",
    "            centroids[i,:] = sums[i,:-1]/sums[i,-1]\n",
    "    \n",
    "def converge():\n",
    "    steps_to_converge = 5\n",
    "    for i in np.arange(steps_to_converge):\n",
    "        new_centroids()\n",
    "        \n",
    "converge()"
   ]
  },
  {
   "cell_type": "markdown",
   "metadata": {},
   "source": [
    "### Image Modification function\n",
    "\n",
    "This function will paint the members of the cluster in the colors of the centroid of that cluster."
   ]
  },
  {
   "cell_type": "code",
   "execution_count": 18,
   "metadata": {},
   "outputs": [],
   "source": [
    "def cartoonify_image():\n",
    "    for i in np.arange(height):\n",
    "        for j in np.arange(width):\n",
    "            pixel = [i,j]\n",
    "            # x is the index of nearest cluster\n",
    "            x = nearest_cluster(pixel)\n",
    "            x,y = tuple(centroids[x])\n",
    "            img[i,j,:] = img[x,y,:]\n",
    "    copy_img = img.copy()\n",
    "    cv2.imwrite(\"Images/cartoonish_image.png\",copy_img)\n",
    "    cv2.imshow(\"Cartoonified Image\",copy_img)\n",
    "    cv2.waitKey(0)\n",
    "    cv2.destroyAllWindows()\n",
    "    \n",
    "cartoonify_image()"
   ]
  }
 ],
 "metadata": {
  "kernelspec": {
   "display_name": "Python 3",
   "language": "python",
   "name": "python3"
  },
  "language_info": {
   "codemirror_mode": {
    "name": "ipython",
    "version": 3
   },
   "file_extension": ".py",
   "mimetype": "text/x-python",
   "name": "python",
   "nbconvert_exporter": "python",
   "pygments_lexer": "ipython3",
   "version": "3.8.3"
  }
 },
 "nbformat": 4,
 "nbformat_minor": 4
}
